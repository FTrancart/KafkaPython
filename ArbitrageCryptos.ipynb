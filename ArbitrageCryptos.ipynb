{
 "cells": [
  {
   "cell_type": "code",
   "execution_count": null,
   "metadata": {},
   "outputs": [
    {
     "name": "stdout",
     "output_type": "stream",
     "text": [
      "b'BTCEUR ask price : Kraken (7364.200000) is cheaper than Binance by 11.510000 and cheaper than Coinbase by 42.410000'\n",
      "b'BTCEUR bid price : Kraken (7364.100000) is more expensive than Binance by 16.670000 and more expensive than Coinbase by 34.140000'\n",
      "b'BTCEUR arbitrage : No arbitrage possible'\n",
      "b'ETHEUR ask price : Kraken (132.170000) is cheaper than Binance by 0.150000 and cheaper than Coinbase by 0.780000'\n",
      "b'ETHEUR bid price : Kraken (132.160000) is more expensive than Binance by 0.300000 and more expensive than Coinbase by 4.280000'\n",
      "b'ETHEUR arbitrage : No arbitrage possible'\n"
     ]
    }
   ],
   "source": [
    "from kafka import KafkaConsumer, KafkaProducer\n",
    "import requests, operator\n",
    "\n",
    "def produce(data):\n",
    "    producer = KafkaProducer(bootstrap_servers=['localhost:9092'])\n",
    "    producer.send('ArbitrageCryptos', data)\n",
    "    producer.close()\n",
    "\n",
    "def consume():\n",
    "    consumer = KafkaConsumer('ArbitrageCryptos', bootstrap_servers=['localhost:9092'], auto_offset_reset='earliest', enable_auto_commit=False)\n",
    "    for message in consumer:\n",
    "        print(message.value)\n",
    "    consumer.close()\n",
    "\n",
    "def compare(asset):\n",
    "    asks = {'Coinbase' : 0, 'Kraken' : 0, 'Binance' : 0}\n",
    "    bids = {'Coinbase' : 0, 'Kraken' : 0, 'Binance' : 0}\n",
    "    \n",
    "    #retrieve rating of asset bid and ask on each exchange platform KRAKEN/COINBASE/BINANCE\n",
    "    kraken = requests.get(\"https://api.kraken.com/0/public/Ticker?pair=\" + asset).json()\n",
    "    asks['Kraken'] = kraken['result'][list(kraken['result'].keys())[0]]['a'][0]\n",
    "    bids['Kraken'] = kraken['result'][list(kraken['result'].keys())[0]]['b'][0]\n",
    "    \n",
    "    asks['Binance'] = requests.get(\"https://api.binance.com/api/v3/ticker/bookTicker?symbol=\" + asset).json()['askPrice']\n",
    "    bids['Binance'] = requests.get(\"https://api.binance.com/api/v3/ticker/bookTicker?symbol=\" + asset).json()['bidPrice']\n",
    "\n",
    "    asks['Coinbase'] = requests.get(\"https://api.coinbase.com/v2/prices/\" + asset[:3] + '-' + asset[3:] + \"/buy\").json()['data']['amount']\n",
    "    bids['Coinbase'] = requests.get(\"https://api.coinbase.com/v2/prices/\" + asset[:3] + '-' + asset[3:] + \"/sell\").json()['data']['amount']\n",
    "    \n",
    "    #sort dictionary to compare ratings\n",
    "    askList = sorted(asks.items(), key=operator.itemgetter(1))\n",
    "    bidList = sorted(bids.items(), key=operator.itemgetter(1))\n",
    "    produce((asset + ' ask price : ' + askList[0][0] + ' (%f) ' %(float(askList[0][1])) + 'is cheaper than ' + askList[1][0] + ' by %f and cheaper than ' %(float(askList[1][1]) - float(askList[0][1])) + askList[2][0] + ' by %f' % (float(askList[2][1]) - float(askList[0][1]))).encode())\n",
    "    produce((asset + ' bid price : ' + bidList[2][0] + ' (%f) ' %(float(bidList[2][1])) + 'is more expensive than ' + bidList[1][0] + ' by %f and more expensive than ' %(float(bidList[2][1]) - float(bidList[1][1])) + bidList[0][0] + ' by %f' % (float(bidList[2][1]) - float(bidList[0][1]))).encode())\n",
    "\n",
    "    #search arbitrage between asks and bids\n",
    "    if all(i[1] <= min(askList[j][1] for j in [0, 1, 2]) for i in bidList) == True:\n",
    "        res = asset + ' arbitrage : No arbitrage possible'\n",
    "        produce(res.encode())\n",
    "    else: \n",
    "        for b in range(len(bidList)):\n",
    "            for a in range(len(askList)):\n",
    "                if bidList[b][1] > askList[a][1]:\n",
    "                    res = asset + ' arbitrage : Buy %f from ' %(float(askList[a][1])) + askList[a][0] + ' and sell %f to ' %(float(bidList[b][1])) + bidList[b][0] + ', gain : %f' %(float(askList[a][1]) - float(bidList[b][1]))\n",
    "                    produce(res.encode())\n",
    "\n",
    "compare('ETHEUR')\n",
    "consume()"
   ]
  },
  {
   "cell_type": "code",
   "execution_count": null,
   "metadata": {},
   "outputs": [],
   "source": []
  }
 ],
 "metadata": {
  "kernelspec": {
   "display_name": "Python 3",
   "language": "python",
   "name": "python3"
  },
  "language_info": {
   "codemirror_mode": {
    "name": "ipython",
    "version": 3
   },
   "file_extension": ".py",
   "mimetype": "text/x-python",
   "name": "python",
   "nbconvert_exporter": "python",
   "pygments_lexer": "ipython3",
   "version": "3.7.3"
  }
 },
 "nbformat": 4,
 "nbformat_minor": 4
}
